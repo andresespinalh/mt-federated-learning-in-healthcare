{
 "cells": [
  {
   "cell_type": "code",
   "execution_count": null,
   "metadata": {},
   "outputs": [],
   "source": [
    "import os\n",
    "import shutil\n",
    "import random\n",
    "import math"
   ]
  },
  {
   "cell_type": "markdown",
   "metadata": {},
   "source": [
    "#### Data Partitioning"
   ]
  },
  {
   "cell_type": "code",
   "execution_count": null,
   "metadata": {},
   "outputs": [],
   "source": [
    "dir_train_images = \"../../data/inputs/kvasir/train/images\"\n",
    "dir_train_masks = \"../../data/inputs/kvasir/train/masks\"\n",
    "\n",
    "# Get both mask and image names\n",
    "names = os.listdir(dir_train_images)\n",
    "names_cvccolondb = [name for name in names if name.split('.')[0].isdigit()]\n",
    "names_kvasir = [name for name in names if name not in names_cvccolondb]\n",
    "\n",
    "## Distribute the Data\n",
    "fl_clients = [2, 4, 6 ,8]\n",
    "random.seed(64)\n",
    "sample_cvccolondb = random.sample(range(0, len(names_cvccolondb)), len(names_cvccolondb))\n",
    "sample_kvasir = random.sample(range(0, len(names_kvasir)), len(names_kvasir))\n",
    "sample_map = {}\n",
    "\n",
    "for n_clients in fl_clients:\n",
    "    # Number of samples per partition\n",
    "    n_samples_cvccolondb = math.floor((len(names_cvccolondb) * 2) / n_clients)\n",
    "    n_samples_kvasir = math.floor((len(names_kvasir) * 2) / n_clients)\n",
    "    # Number of partitions per dataset\n",
    "    n_partitions_dataset = int(n_clients / 2)\n",
    "\n",
    "    ix_cvccolondb = 0\n",
    "    ix_kvasir = 0\n",
    "\n",
    "    partitions = []\n",
    "\n",
    "    for partition in range(1, n_partitions_dataset + 1):\n",
    "        # Get the dataset keys for each partition. If it is the last partition put all leftover samples in that partition.\n",
    "        if(partition != n_partitions_dataset):\n",
    "            keys_cvccolondb = sample_cvccolondb[ix_cvccolondb: ix_cvccolondb + n_samples_cvccolondb]\n",
    "            keys_kvasir = sample_kvasir[ix_kvasir: ix_kvasir + n_samples_kvasir]\n",
    "        else:\n",
    "            keys_cvccolondb = sample_cvccolondb[ix_cvccolondb: len(sample_cvccolondb)]\n",
    "            keys_kvasir = sample_kvasir[ix_kvasir: len(sample_kvasir)]\n",
    "\n",
    "        # Get the names of the images\n",
    "        partition_cvccolondb = [names_cvccolondb[key] for key in keys_cvccolondb]\n",
    "        partition_kvasir = [names_kvasir[key] for key in keys_kvasir]\n",
    "\n",
    "        # Append the samples\n",
    "        partitions.append(partition_cvccolondb)\n",
    "        partitions.append(partition_kvasir)\n",
    "        \n",
    "        # Update the keys for the next sample\n",
    "        ix_cvccolondb += n_samples_cvccolondb\n",
    "        ix_kvasir += n_samples_kvasir\n",
    "\n",
    "    sample_map[n_clients] = partitions"
   ]
  },
  {
   "cell_type": "markdown",
   "metadata": {},
   "source": [
    "#### Export Data to Disk"
   ]
  },
  {
   "cell_type": "code",
   "execution_count": null,
   "metadata": {},
   "outputs": [],
   "source": [
    "## Export the Data\n",
    "output_dir = '../../data/inputs/kvasir_federated'\n",
    "\n",
    "# Clean the directory first\n",
    "if os.path.exists(output_dir): \n",
    "    shutil.rmtree(output_dir)\n",
    "    \n",
    "os.mkdir(output_dir)\n",
    "\n",
    "# Creates all the directories and fills them with the federated clients data\n",
    "for partition_conf in sample_map:\n",
    "    partitions = sample_map[partition_conf]\n",
    "\n",
    "    for n_partition, partition in enumerate(partitions):\n",
    "        # If a folder to hold this client images and mask hasn't been created, create it\n",
    "        partition_dir = f'{output_dir}/{partition_conf}_flclients/flclient_{n_partition + 1}'\n",
    "\n",
    "        if not os.path.exists(partition_dir):\n",
    "            os.makedirs(f'{partition_dir}/images')\n",
    "            os.makedirs(f'{partition_dir}/masks')\n",
    "            \n",
    "        images_src_path = [f'{dir_train_images}/{partition}' for partition in partitions[n_partition]]\n",
    "        masks_src_path = [f'{dir_train_masks}/{partition}' for partition in partitions[n_partition]]\n",
    "        images_dest_path = [f'{partition_dir}/images/{partition}' for partition in partitions[n_partition]]\n",
    "        masks_dest_path = [f'{partition_dir}/masks/{partition}' for partition in partitions[n_partition]]\n",
    "\n",
    "        for item in range(0, len(images_src_path)):\n",
    "            shutil.copy(images_src_path[item], images_dest_path[item])\n",
    "\n",
    "        for item in range(0, len(masks_src_path)):\n",
    "            shutil.copy(masks_src_path[item], masks_dest_path[item])"
   ]
  },
  {
   "cell_type": "markdown",
   "metadata": {},
   "source": [
    "#### Analysis of Results"
   ]
  },
  {
   "cell_type": "code",
   "execution_count": null,
   "metadata": {},
   "outputs": [],
   "source": [
    "client_configs = os.listdir(output_dir)\n",
    "\n",
    "for config in client_configs:\n",
    "    clients = os.listdir(f'{output_dir}/{config}')\n",
    "    imgs = []\n",
    "    masks = []\n",
    "    tot_images = 0\n",
    "    tot_masks = 0\n",
    "    image_client_str = ''\n",
    "    mask_client_str = ''\n",
    "\n",
    "    for client in clients:\n",
    "        imgs_client = os.listdir(f'{output_dir}/{config}/{client}/images')\n",
    "        masks_client = os.listdir(f'{output_dir}/{config}/{client}/masks')\n",
    "        imgs += imgs_client\n",
    "        masks += masks_client\n",
    "\n",
    "        n_images = len(imgs_client)\n",
    "        n_masks = len(masks_client)\n",
    "        tot_images += n_images\n",
    "        tot_masks += n_masks \n",
    "\n",
    "        image_client_str += f'{client.split(\"_\")[1]}: {n_images}, '\n",
    "        mask_client_str += f'{client.split(\"_\")[1]}: {n_masks}, '\n",
    "\n",
    "    print(f'Client Config: {config} has images: {tot_images} and masks: {tot_masks}')\n",
    "    print(f'Unique Images: {len(set(imgs))}, Unique Masks: {len(set(masks))}')\n",
    "    print(f'Images per Client: {image_client_str}')\n",
    "    print(f'Masks per Client: {mask_client_str}')\n",
    "    print()"
   ]
  }
 ],
 "metadata": {
  "kernelspec": {
   "display_name": "py-flexperiments",
   "language": "python",
   "name": "python3"
  },
  "language_info": {
   "codemirror_mode": {
    "name": "ipython",
    "version": 3
   },
   "file_extension": ".py",
   "mimetype": "text/x-python",
   "name": "python",
   "nbconvert_exporter": "python",
   "pygments_lexer": "ipython3",
   "version": "3.9.16"
  },
  "orig_nbformat": 4
 },
 "nbformat": 4,
 "nbformat_minor": 2
}
